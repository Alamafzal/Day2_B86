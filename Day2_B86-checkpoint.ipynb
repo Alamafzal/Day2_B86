{
 "cells": [
  {
   "cell_type": "code",
   "execution_count": 2,
   "id": "0458a2bd-d8e1-4e38-be0a-5b26faa3695e",
   "metadata": {},
   "outputs": [],
   "source": [
    "x=2"
   ]
  },
  {
   "cell_type": "code",
   "execution_count": 3,
   "id": "9db9d9a9-f841-4a74-af0f-c2cc002f29fb",
   "metadata": {},
   "outputs": [],
   "source": [
    "y=3"
   ]
  },
  {
   "cell_type": "code",
   "execution_count": 4,
   "id": "7c917186-0b80-4801-bd86-3e9edaa5af8d",
   "metadata": {},
   "outputs": [],
   "source": [
    "z=x+y"
   ]
  },
  {
   "cell_type": "code",
   "execution_count": 5,
   "id": "ff5ed7c1-e2c3-45fc-966e-13818adcb811",
   "metadata": {},
   "outputs": [
    {
     "name": "stdout",
     "output_type": "stream",
     "text": [
      "5\n"
     ]
    }
   ],
   "source": [
    "print(z)"
   ]
  },
  {
   "cell_type": "code",
   "execution_count": null,
   "id": "2b38361b-bc71-45e9-9928-dea996940a42",
   "metadata": {},
   "outputs": [],
   "source": []
  },
  {
   "cell_type": "code",
   "execution_count": null,
   "id": "8d464f88-c8f3-44be-86a4-936b820624f2",
   "metadata": {},
   "outputs": [],
   "source": [
    "first name='afzal'"
   ]
  },
  {
   "cell_type": "code",
   "execution_count": 19,
   "id": "b723dda1-2d3d-475f-ac0a-372469559c5c",
   "metadata": {},
   "outputs": [
    {
     "ename": "SyntaxError",
     "evalue": "invalid syntax. Perhaps you forgot a comma? (3852772612.py, line 1)",
     "output_type": "error",
     "traceback": [
      "\u001b[1;36m  Cell \u001b[1;32mIn[19], line 1\u001b[1;36m\u001b[0m\n\u001b[1;33m    print(first name)\u001b[0m\n\u001b[1;37m          ^\u001b[0m\n\u001b[1;31mSyntaxError\u001b[0m\u001b[1;31m:\u001b[0m invalid syntax. Perhaps you forgot a comma?\n"
     ]
    }
   ],
   "source": [
    "print(first name)"
   ]
  },
  {
   "cell_type": "code",
   "execution_count": null,
   "id": "4af5cc73-15e1-4baf-8582-0ab44d8adcda",
   "metadata": {},
   "outputs": [],
   "source": []
  },
  {
   "cell_type": "code",
   "execution_count": 16,
   "id": "0e571dd4-dab2-4956-afe8-4186c71c1e6d",
   "metadata": {},
   "outputs": [],
   "source": [
    "myname='afzal'"
   ]
  },
  {
   "cell_type": "code",
   "execution_count": 17,
   "id": "7661f8a1-3c47-49df-a054-7f09bb681e95",
   "metadata": {},
   "outputs": [
    {
     "name": "stdout",
     "output_type": "stream",
     "text": [
      "afzal\n"
     ]
    }
   ],
   "source": [
    "print(myname)"
   ]
  },
  {
   "cell_type": "code",
   "execution_count": null,
   "id": "4baff8cd-91b0-4092-b4cb-88d8a4741a31",
   "metadata": {},
   "outputs": [],
   "source": []
  },
  {
   "cell_type": "code",
   "execution_count": null,
   "id": "ef36cdc4-bf98-49f2-b973-9cb077fb1adf",
   "metadata": {},
   "outputs": [],
   "source": [
    "1name='alam'"
   ]
  },
  {
   "cell_type": "code",
   "execution_count": 20,
   "id": "81524577-f096-4480-86e9-c135f86b0703",
   "metadata": {},
   "outputs": [
    {
     "ename": "SyntaxError",
     "evalue": "invalid decimal literal (989602786.py, line 1)",
     "output_type": "error",
     "traceback": [
      "\u001b[1;36m  Cell \u001b[1;32mIn[20], line 1\u001b[1;36m\u001b[0m\n\u001b[1;33m    print(1name)\u001b[0m\n\u001b[1;37m          ^\u001b[0m\n\u001b[1;31mSyntaxError\u001b[0m\u001b[1;31m:\u001b[0m invalid decimal literal\n"
     ]
    }
   ],
   "source": [
    "print(1name)"
   ]
  },
  {
   "cell_type": "code",
   "execution_count": null,
   "id": "9b37da0f-284f-431d-827d-13ee5c1542a9",
   "metadata": {},
   "outputs": [],
   "source": []
  },
  {
   "cell_type": "code",
   "execution_count": 21,
   "id": "75628c0e-5333-40ce-973e-ce3b1c22c541",
   "metadata": {},
   "outputs": [],
   "source": [
    "name1='alam'"
   ]
  },
  {
   "cell_type": "code",
   "execution_count": 22,
   "id": "9e350654-3da9-49cc-99a8-d1f1f2ab5233",
   "metadata": {},
   "outputs": [
    {
     "name": "stdout",
     "output_type": "stream",
     "text": [
      "alam\n"
     ]
    }
   ],
   "source": [
    "print(name1)"
   ]
  },
  {
   "cell_type": "code",
   "execution_count": null,
   "id": "e39a0c04-dddd-4c5d-9060-88f7ff60f9a7",
   "metadata": {},
   "outputs": [],
   "source": []
  },
  {
   "cell_type": "code",
   "execution_count": null,
   "id": "9c7e4d23-1607-4895-9ced-c6d218e8e245",
   "metadata": {},
   "outputs": [],
   "source": [
    "name@='john'"
   ]
  },
  {
   "cell_type": "code",
   "execution_count": 24,
   "id": "eeee5816-8b66-449a-b598-0b922edfd29d",
   "metadata": {},
   "outputs": [
    {
     "ename": "SyntaxError",
     "evalue": "invalid syntax (3535163447.py, line 1)",
     "output_type": "error",
     "traceback": [
      "\u001b[1;36m  Cell \u001b[1;32mIn[24], line 1\u001b[1;36m\u001b[0m\n\u001b[1;33m    print(name@)\u001b[0m\n\u001b[1;37m               ^\u001b[0m\n\u001b[1;31mSyntaxError\u001b[0m\u001b[1;31m:\u001b[0m invalid syntax\n"
     ]
    }
   ],
   "source": [
    "print(name@)"
   ]
  },
  {
   "cell_type": "code",
   "execution_count": null,
   "id": "b39344ec-a4d8-4a09-a517-1d3c60fbd428",
   "metadata": {},
   "outputs": [],
   "source": []
  },
  {
   "cell_type": "code",
   "execution_count": 32,
   "id": "244d6516-1b5f-4d5a-bf8d-e16c77ee759b",
   "metadata": {},
   "outputs": [],
   "source": [
    "fame='famous'"
   ]
  },
  {
   "cell_type": "code",
   "execution_count": 33,
   "id": "e8cb650a-08bb-4ac8-96d6-ed74ed00a595",
   "metadata": {},
   "outputs": [
    {
     "name": "stdout",
     "output_type": "stream",
     "text": [
      "famous\n"
     ]
    }
   ],
   "source": [
    "print(fame)"
   ]
  },
  {
   "cell_type": "code",
   "execution_count": null,
   "id": "2696b874-3c0c-4241-8463-a763103f9d20",
   "metadata": {},
   "outputs": [],
   "source": []
  },
  {
   "cell_type": "code",
   "execution_count": 35,
   "id": "0aa36539-25db-4c56-86cc-d6180f24ed4a",
   "metadata": {},
   "outputs": [],
   "source": [
    "fame1=\"bigger\""
   ]
  },
  {
   "cell_type": "code",
   "execution_count": 36,
   "id": "9c02a55e-bb52-4e2d-a439-c3eeae8aaaa6",
   "metadata": {},
   "outputs": [
    {
     "name": "stdout",
     "output_type": "stream",
     "text": [
      "bigger\n"
     ]
    }
   ],
   "source": [
    "print(fame1)"
   ]
  },
  {
   "cell_type": "code",
   "execution_count": null,
   "id": "6bb61580-dfac-4a78-a9e9-0785b6269f79",
   "metadata": {},
   "outputs": [],
   "source": []
  },
  {
   "cell_type": "code",
   "execution_count": 40,
   "id": "19531195-6423-4f2f-96a4-4b29f4e46099",
   "metadata": {},
   "outputs": [
    {
     "ename": "SyntaxError",
     "evalue": "invalid syntax. Perhaps you forgot a comma? (3725560275.py, line 1)",
     "output_type": "error",
     "traceback": [
      "\u001b[1;36m  Cell \u001b[1;32mIn[40], line 1\u001b[1;36m\u001b[0m\n\u001b[1;33m    type(name 2)\u001b[0m\n\u001b[1;37m         ^\u001b[0m\n\u001b[1;31mSyntaxError\u001b[0m\u001b[1;31m:\u001b[0m invalid syntax. Perhaps you forgot a comma?\n"
     ]
    }
   ],
   "source": [
    "type(name 2)"
   ]
  },
  {
   "cell_type": "code",
   "execution_count": null,
   "id": "15fed139-5cc2-4ba6-8f29-4d70f74c428e",
   "metadata": {},
   "outputs": [],
   "source": []
  },
  {
   "cell_type": "code",
   "execution_count": 41,
   "id": "f9d6bfe7-92bc-4ca1-bf52-29ba4b23030a",
   "metadata": {},
   "outputs": [
    {
     "ename": "NameError",
     "evalue": "name 'name' is not defined",
     "output_type": "error",
     "traceback": [
      "\u001b[1;31m---------------------------------------------------------------------------\u001b[0m",
      "\u001b[1;31mNameError\u001b[0m                                 Traceback (most recent call last)",
      "Cell \u001b[1;32mIn[41], line 1\u001b[0m\n\u001b[1;32m----> 1\u001b[0m \u001b[38;5;28mtype\u001b[39m(name)\n",
      "\u001b[1;31mNameError\u001b[0m: name 'name' is not defined"
     ]
    }
   ],
   "source": [
    "type(name)"
   ]
  },
  {
   "cell_type": "code",
   "execution_count": null,
   "id": "108f73e4-d677-4e45-949b-ddee50203019",
   "metadata": {},
   "outputs": [],
   "source": []
  },
  {
   "cell_type": "code",
   "execution_count": 45,
   "id": "3023720c-d597-4bfa-bebb-d122c7693caf",
   "metadata": {},
   "outputs": [],
   "source": [
    "fullname='babji aluri'"
   ]
  },
  {
   "cell_type": "code",
   "execution_count": 46,
   "id": "1cd70714-0572-409f-9fbe-a28e8b8bb118",
   "metadata": {},
   "outputs": [
    {
     "name": "stdout",
     "output_type": "stream",
     "text": [
      "babji aluri\n"
     ]
    }
   ],
   "source": [
    "print(fullname)"
   ]
  },
  {
   "cell_type": "code",
   "execution_count": null,
   "id": "ac30fdcf-f26e-4c3b-ad16-a0a8c8855788",
   "metadata": {},
   "outputs": [],
   "source": []
  },
  {
   "cell_type": "code",
   "execution_count": 47,
   "id": "916aa52e-9c4e-47d1-8115-826a575fab5d",
   "metadata": {},
   "outputs": [
    {
     "name": "stdout",
     "output_type": "stream",
     "text": [
      "Babji Aluri\n"
     ]
    }
   ],
   "source": [
    "print(fullname.title())"
   ]
  },
  {
   "cell_type": "code",
   "execution_count": null,
   "id": "cd1af906-8677-4b36-98c4-9d9b0c7e0a8d",
   "metadata": {},
   "outputs": [],
   "source": []
  },
  {
   "cell_type": "code",
   "execution_count": 48,
   "id": "670d3fd6-fb10-40cc-9eab-42bdf820719b",
   "metadata": {},
   "outputs": [
    {
     "ename": "NameError",
     "evalue": "name 'upper' is not defined",
     "output_type": "error",
     "traceback": [
      "\u001b[1;31m---------------------------------------------------------------------------\u001b[0m",
      "\u001b[1;31mNameError\u001b[0m                                 Traceback (most recent call last)",
      "Cell \u001b[1;32mIn[48], line 1\u001b[0m\n\u001b[1;32m----> 1\u001b[0m \u001b[38;5;28mprint\u001b[39m(fullname,upper())\n",
      "\u001b[1;31mNameError\u001b[0m: name 'upper' is not defined"
     ]
    }
   ],
   "source": [
    "print(fullname,upper())"
   ]
  },
  {
   "cell_type": "code",
   "execution_count": null,
   "id": "fdcd4550-c0e5-4d11-ba97-187217a8eaa0",
   "metadata": {},
   "outputs": [],
   "source": []
  },
  {
   "cell_type": "code",
   "execution_count": 49,
   "id": "0fabd94f-a777-4684-9b44-6c1fcdc0a776",
   "metadata": {},
   "outputs": [
    {
     "ename": "NameError",
     "evalue": "name 'lower' is not defined",
     "output_type": "error",
     "traceback": [
      "\u001b[1;31m---------------------------------------------------------------------------\u001b[0m",
      "\u001b[1;31mNameError\u001b[0m                                 Traceback (most recent call last)",
      "Cell \u001b[1;32mIn[49], line 1\u001b[0m\n\u001b[1;32m----> 1\u001b[0m \u001b[38;5;28mprint\u001b[39m(fullname, lower())\n",
      "\u001b[1;31mNameError\u001b[0m: name 'lower' is not defined"
     ]
    }
   ],
   "source": [
    "print(fullname, lower())"
   ]
  },
  {
   "cell_type": "code",
   "execution_count": null,
   "id": "ff26b421-a07b-4d7c-988c-c913bdb820e5",
   "metadata": {},
   "outputs": [],
   "source": []
  },
  {
   "cell_type": "code",
   "execution_count": null,
   "id": "401c7f8e-b603-415f-a3e4-f837dd014b45",
   "metadata": {},
   "outputs": [],
   "source": []
  },
  {
   "cell_type": "code",
   "execution_count": null,
   "id": "177d059a-9624-47e9-bf9b-9d5b50367874",
   "metadata": {},
   "outputs": [],
   "source": []
  }
 ],
 "metadata": {
  "kernelspec": {
   "display_name": "Python 3 (ipykernel)",
   "language": "python",
   "name": "python3"
  },
  "language_info": {
   "codemirror_mode": {
    "name": "ipython",
    "version": 3
   },
   "file_extension": ".py",
   "mimetype": "text/x-python",
   "name": "python",
   "nbconvert_exporter": "python",
   "pygments_lexer": "ipython3",
   "version": "3.11.7"
  }
 },
 "nbformat": 4,
 "nbformat_minor": 5
}
